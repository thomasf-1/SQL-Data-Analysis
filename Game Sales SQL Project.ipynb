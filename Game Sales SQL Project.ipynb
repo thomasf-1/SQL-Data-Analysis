{
 "cells": [
  {
   "cell_type": "code",
   "execution_count": 61,
   "id": "e642ccea",
   "metadata": {},
   "outputs": [],
   "source": [
    "#importing packages"
   ]
  },
  {
   "cell_type": "code",
   "execution_count": 62,
   "id": "9570f816",
   "metadata": {},
   "outputs": [],
   "source": [
    "import pandas as pd\n",
    "import sqlite3\n",
    "\n"
   ]
  },
  {
   "cell_type": "code",
   "execution_count": 63,
   "id": "10ce24f2",
   "metadata": {},
   "outputs": [],
   "source": [
    "#Connecting Jupyter notebook to database file."
   ]
  },
  {
   "cell_type": "code",
   "execution_count": 64,
   "id": "3c13629a",
   "metadata": {},
   "outputs": [],
   "source": [
    "%%capture\n",
    "%load_ext sql\n",
    "%sql sqlite:///gamesalesdata5.db\n",
    "\n"
   ]
  },
  {
   "cell_type": "code",
   "execution_count": 65,
   "id": "0c427c35",
   "metadata": {},
   "outputs": [],
   "source": [
    "#Connecting Jupyter notebook to database file."
   ]
  },
  {
   "cell_type": "code",
   "execution_count": 66,
   "id": "3904309f",
   "metadata": {},
   "outputs": [
    {
     "name": "stdout",
     "output_type": "stream",
     "text": [
      " * sqlite:///gamesalesdata5.db\n",
      "Done.\n"
     ]
    },
    {
     "data": {
      "text/html": [
       "<table>\n",
       "    <tr>\n",
       "        <th>type</th>\n",
       "        <th>name</th>\n",
       "        <th>tbl_name</th>\n",
       "        <th>rootpage</th>\n",
       "        <th>sql</th>\n",
       "    </tr>\n",
       "    <tr>\n",
       "        <td>table</td>\n",
       "        <td>gamesalesproject1</td>\n",
       "        <td>gamesalesproject1</td>\n",
       "        <td>2</td>\n",
       "        <td>CREATE TABLE &quot;gamesalesproject1&quot; (<br>\t&quot;game&quot;\tTEXT,<br>\t&quot;platform&quot;\tTEXT,<br>\t&quot;publisher&quot;\tTEXT,<br>\t&quot;developer&quot;\tTEXT,<br>\t&quot;games_sold&quot;\tREAL,<br>\t&quot;year&quot;\tINTEGER<br>)</td>\n",
       "    </tr>\n",
       "    <tr>\n",
       "        <td>table</td>\n",
       "        <td>gamereviewsdata</td>\n",
       "        <td>gamereviewsdata</td>\n",
       "        <td>358</td>\n",
       "        <td>CREATE TABLE &quot;gamereviewsdata&quot; (<br>\t&quot;game&quot;\tTEXT,<br>\t&quot;critic_score&quot;\tREAL,<br>\t&quot;user_score&quot;\tREAL<br>)</td>\n",
       "    </tr>\n",
       "</table>"
      ],
      "text/plain": [
       "[('table', 'gamesalesproject1', 'gamesalesproject1', 2, 'CREATE TABLE \"gamesalesproject1\" (\\n\\t\"game\"\\tTEXT,\\n\\t\"platform\"\\tTEXT,\\n\\t\"publisher\"\\tTEXT,\\n\\t\"developer\"\\tTEXT,\\n\\t\"games_sold\"\\tREAL,\\n\\t\"year\"\\tINTEGER\\n)'),\n",
       " ('table', 'gamereviewsdata', 'gamereviewsdata', 358, 'CREATE TABLE \"gamereviewsdata\" (\\n\\t\"game\"\\tTEXT,\\n\\t\"critic_score\"\\tREAL,\\n\\t\"user_score\"\\tREAL\\n)')]"
      ]
     },
     "execution_count": 66,
     "metadata": {},
     "output_type": "execute_result"
    }
   ],
   "source": [
    "%%sql\n",
    "\n",
    "SELECT *\n",
    "  FROM sqlite_master\n",
    " WHERE type='table'; "
   ]
  },
  {
   "cell_type": "markdown",
   "id": "9c1928f1",
   "metadata": {},
   "source": [
    "The database contains two tables: **_gamesalesproject1_**  and **_gamesreviewsdata_** . There are over 19,000 rows in this dataset. Data source is Kaggle. \n",
    "\n",
    "**_gamesalesproject1_** has 6 columns:\n",
    "\n",
    "**game** (The name of the video game)\n",
    "\n",
    "**platform** (Gaming Platform)\n",
    "\n",
    "**publisher** (Game Publisher)\n",
    "\n",
    "**developer** (Game Developer)\n",
    "\n",
    "**games_sold** (Number of games sold in millions)\n",
    "\n",
    "**year** (release year)\n",
    "\n",
    "\n",
    "<br> <br>\n",
    "\n",
    "**_gamesreviewsdata_** has 3 columns:\n",
    "\n",
    "**game**(The name of the video game)\n",
    "\n",
    "**critic_score** (Critic score according to Metacritic)\n",
    "\n",
    "**user_score** (User score according to Metacritic)\n",
    "\n",
    "In this project I'll use SQL to explore and analyze the data set. Some concepts used will be JOINS, set theories such as INTERCEPT, common table expressions, and subqueries. "
   ]
  },
  {
   "cell_type": "code",
   "execution_count": 67,
   "id": "24dd0206",
   "metadata": {},
   "outputs": [],
   "source": [
    "# The %%sql line allows you to run SQL queries in Jupyter Notebook\n",
    "\n",
    "# Select all information for the top ten best-selling games\n",
    "# Order the results from best-selling game down to tenth best-selling"
   ]
  },
  {
   "cell_type": "code",
   "execution_count": 68,
   "id": "88c6cc09",
   "metadata": {},
   "outputs": [
    {
     "name": "stdout",
     "output_type": "stream",
     "text": [
      " * sqlite:///gamesalesdata5.db\n",
      "Done.\n"
     ]
    },
    {
     "data": {
      "text/html": [
       "<table>\n",
       "    <tr>\n",
       "        <th>game</th>\n",
       "        <th>platform</th>\n",
       "        <th>publisher</th>\n",
       "        <th>developer</th>\n",
       "        <th>games_sold</th>\n",
       "        <th>year</th>\n",
       "    </tr>\n",
       "    <tr>\n",
       "        <td>Wii Sports</td>\n",
       "        <td>Wii</td>\n",
       "        <td>Nintendo</td>\n",
       "        <td>Nintendo EAD</td>\n",
       "        <td>82.9</td>\n",
       "        <td>2006</td>\n",
       "    </tr>\n",
       "    <tr>\n",
       "        <td>Super Mario Bros.</td>\n",
       "        <td>NES</td>\n",
       "        <td>Nintendo</td>\n",
       "        <td>Nintendo EAD</td>\n",
       "        <td>40.24</td>\n",
       "        <td>1985</td>\n",
       "    </tr>\n",
       "    <tr>\n",
       "        <td>Counter-Strike: Global Offensive</td>\n",
       "        <td>PC</td>\n",
       "        <td>Valve</td>\n",
       "        <td>Valve Corporation</td>\n",
       "        <td>40.0</td>\n",
       "        <td>2012</td>\n",
       "    </tr>\n",
       "    <tr>\n",
       "        <td>Mario Kart Wii</td>\n",
       "        <td>Wii</td>\n",
       "        <td>Nintendo</td>\n",
       "        <td>Nintendo EAD</td>\n",
       "        <td>37.32</td>\n",
       "        <td>2008</td>\n",
       "    </tr>\n",
       "    <tr>\n",
       "        <td>PLAYERUNKNOWN&#x27;S BATTLEGROUNDS</td>\n",
       "        <td>PC</td>\n",
       "        <td>PUBG Corporation</td>\n",
       "        <td>PUBG Corporation</td>\n",
       "        <td>36.6</td>\n",
       "        <td>2017</td>\n",
       "    </tr>\n",
       "    <tr>\n",
       "        <td>Minecraft</td>\n",
       "        <td>PC</td>\n",
       "        <td>Mojang</td>\n",
       "        <td>Mojang AB</td>\n",
       "        <td>33.15</td>\n",
       "        <td>2010</td>\n",
       "    </tr>\n",
       "    <tr>\n",
       "        <td>Wii Sports Resort</td>\n",
       "        <td>Wii</td>\n",
       "        <td>Nintendo</td>\n",
       "        <td>Nintendo EAD</td>\n",
       "        <td>33.13</td>\n",
       "        <td>2009</td>\n",
       "    </tr>\n",
       "    <tr>\n",
       "        <td>Pokemon Red / Green / Blue Version</td>\n",
       "        <td>GB</td>\n",
       "        <td>Nintendo</td>\n",
       "        <td>Game Freak</td>\n",
       "        <td>31.38</td>\n",
       "        <td>1998</td>\n",
       "    </tr>\n",
       "    <tr>\n",
       "        <td>New Super Mario Bros.</td>\n",
       "        <td>DS</td>\n",
       "        <td>Nintendo</td>\n",
       "        <td>Nintendo EAD</td>\n",
       "        <td>30.8</td>\n",
       "        <td>2006</td>\n",
       "    </tr>\n",
       "    <tr>\n",
       "        <td>New Super Mario Bros. Wii</td>\n",
       "        <td>Wii</td>\n",
       "        <td>Nintendo</td>\n",
       "        <td>Nintendo EAD</td>\n",
       "        <td>30.3</td>\n",
       "        <td>2009</td>\n",
       "    </tr>\n",
       "</table>"
      ],
      "text/plain": [
       "[('Wii Sports', 'Wii', 'Nintendo', 'Nintendo EAD', 82.9, 2006),\n",
       " ('Super Mario Bros.', 'NES', 'Nintendo', 'Nintendo EAD', 40.24, 1985),\n",
       " ('Counter-Strike: Global Offensive', 'PC', 'Valve', 'Valve Corporation', 40.0, 2012),\n",
       " ('Mario Kart Wii', 'Wii', 'Nintendo', 'Nintendo EAD', 37.32, 2008),\n",
       " (\"PLAYERUNKNOWN'S BATTLEGROUNDS\", 'PC', 'PUBG Corporation', 'PUBG Corporation', 36.6, 2017),\n",
       " ('Minecraft', 'PC', 'Mojang', 'Mojang AB', 33.15, 2010),\n",
       " ('Wii Sports Resort', 'Wii', 'Nintendo', 'Nintendo EAD', 33.13, 2009),\n",
       " ('Pokemon Red / Green / Blue Version', 'GB', 'Nintendo', 'Game Freak', 31.38, 1998),\n",
       " ('New Super Mario Bros.', 'DS', 'Nintendo', 'Nintendo EAD', 30.8, 2006),\n",
       " ('New Super Mario Bros. Wii', 'Wii', 'Nintendo', 'Nintendo EAD', 30.3, 2009)]"
      ]
     },
     "execution_count": 68,
     "metadata": {},
     "output_type": "execute_result"
    }
   ],
   "source": [
    "%%sql  \n",
    "\n",
    "SELECT *\n",
    "FROM gamesalesproject1\n",
    "ORDER BY games_sold DESC\n",
    "LIMIT 10;"
   ]
  },
  {
   "cell_type": "code",
   "execution_count": 69,
   "id": "858d127b",
   "metadata": {},
   "outputs": [],
   "source": [
    "# Join the two tables and find the number of games where there\n",
    "# are no reviews data scores."
   ]
  },
  {
   "cell_type": "code",
   "execution_count": 70,
   "id": "56afaf7d",
   "metadata": {},
   "outputs": [
    {
     "name": "stdout",
     "output_type": "stream",
     "text": [
      " * sqlite:///gamesalesdata5.db\n",
      "Done.\n"
     ]
    },
    {
     "data": {
      "text/html": [
       "<table>\n",
       "    <tr>\n",
       "        <th>COUNT(g.game)</th>\n",
       "    </tr>\n",
       "    <tr>\n",
       "        <td>17248</td>\n",
       "    </tr>\n",
       "</table>"
      ],
      "text/plain": [
       "[(17248,)]"
      ]
     },
     "execution_count": 70,
     "metadata": {},
     "output_type": "execute_result"
    }
   ],
   "source": [
    "%%sql \n",
    "\n",
    "\n",
    "SELECT COUNT(g.game)\n",
    "FROM gamesalesproject1 as g\n",
    "LEFT JOIN gamereviewsdata as r\n",
    "ON g.game = r.game\n",
    "WHERE critic_score IS NULL and user_score IS NULL; \n",
    "\n"
   ]
  },
  {
   "cell_type": "code",
   "execution_count": 71,
   "id": "66a06f45",
   "metadata": {},
   "outputs": [],
   "source": [
    "# Select release year and average critic score for each year, rounded and aliased\n",
    "# Join the game_sales and reviews tables\n",
    "# Group by release year\n",
    "# Order the data from highest to lowest avg_critic_score and limit to 10 results"
   ]
  },
  {
   "cell_type": "code",
   "execution_count": 72,
   "id": "499f5046",
   "metadata": {},
   "outputs": [
    {
     "name": "stdout",
     "output_type": "stream",
     "text": [
      " * sqlite:///gamesalesdata5.db\n",
      "Done.\n"
     ]
    },
    {
     "data": {
      "text/html": [
       "<table>\n",
       "    <tr>\n",
       "        <th>year</th>\n",
       "        <th>avg_critic_score</th>\n",
       "    </tr>\n",
       "    <tr>\n",
       "        <td>1984</td>\n",
       "        <td>9.5</td>\n",
       "    </tr>\n",
       "    <tr>\n",
       "        <td>1992</td>\n",
       "        <td>8.68</td>\n",
       "    </tr>\n",
       "    <tr>\n",
       "        <td>1990</td>\n",
       "        <td>8.54</td>\n",
       "    </tr>\n",
       "    <tr>\n",
       "        <td>1991</td>\n",
       "        <td>8.32</td>\n",
       "    </tr>\n",
       "    <tr>\n",
       "        <td>2020</td>\n",
       "        <td>8.26</td>\n",
       "    </tr>\n",
       "    <tr>\n",
       "        <td>1994</td>\n",
       "        <td>8.04</td>\n",
       "    </tr>\n",
       "    <tr>\n",
       "        <td>2019</td>\n",
       "        <td>7.97</td>\n",
       "    </tr>\n",
       "    <tr>\n",
       "        <td>1985</td>\n",
       "        <td>7.84</td>\n",
       "    </tr>\n",
       "    <tr>\n",
       "        <td>1993</td>\n",
       "        <td>7.72</td>\n",
       "    </tr>\n",
       "    <tr>\n",
       "        <td>2013</td>\n",
       "        <td>7.61</td>\n",
       "    </tr>\n",
       "</table>"
      ],
      "text/plain": [
       "[(1984, 9.5),\n",
       " (1992, 8.68),\n",
       " (1990, 8.54),\n",
       " (1991, 8.32),\n",
       " (2020, 8.26),\n",
       " (1994, 8.04),\n",
       " (2019, 7.97),\n",
       " (1985, 7.84),\n",
       " (1993, 7.72),\n",
       " (2013, 7.61)]"
      ]
     },
     "execution_count": 72,
     "metadata": {},
     "output_type": "execute_result"
    }
   ],
   "source": [
    "%%sql\n",
    "\n",
    "SELECT g.year, ROUND(AVG(r.critic_score),2) AS avg_critic_score\n",
    "FROM gamesalesproject1 as g\n",
    "LEFT JOIN gamereviewsdata as r \n",
    "ON g.game = r.game\n",
    "GROUP BY g.year\n",
    "ORDER BY avg_critic_score DESC \n",
    "LIMIT 10;"
   ]
  },
  {
   "cell_type": "code",
   "execution_count": 73,
   "id": "6471c01a",
   "metadata": {},
   "outputs": [],
   "source": [
    "# 1984 looks suspiciously high. Update the query to add a count of games released in each year called num_games\n",
    "# Update the query so that it only returns years that have more than four reviewed games"
   ]
  },
  {
   "cell_type": "code",
   "execution_count": 74,
   "id": "2317b120",
   "metadata": {},
   "outputs": [
    {
     "name": "stdout",
     "output_type": "stream",
     "text": [
      " * sqlite:///gamesalesdata5.db\n",
      "Done.\n"
     ]
    },
    {
     "data": {
      "text/html": [
       "<table>\n",
       "    <tr>\n",
       "        <th>year</th>\n",
       "        <th>num_games</th>\n",
       "        <th>avg_critic_score</th>\n",
       "    </tr>\n",
       "    <tr>\n",
       "        <td>1984</td>\n",
       "        <td>12</td>\n",
       "        <td>9.5</td>\n",
       "    </tr>\n",
       "    <tr>\n",
       "        <td>1992</td>\n",
       "        <td>56</td>\n",
       "        <td>8.68</td>\n",
       "    </tr>\n",
       "    <tr>\n",
       "        <td>1990</td>\n",
       "        <td>30</td>\n",
       "        <td>8.54</td>\n",
       "    </tr>\n",
       "    <tr>\n",
       "        <td>1991</td>\n",
       "        <td>39</td>\n",
       "        <td>8.32</td>\n",
       "    </tr>\n",
       "    <tr>\n",
       "        <td>2020</td>\n",
       "        <td>13</td>\n",
       "        <td>8.26</td>\n",
       "    </tr>\n",
       "    <tr>\n",
       "        <td>1994</td>\n",
       "        <td>131</td>\n",
       "        <td>8.04</td>\n",
       "    </tr>\n",
       "    <tr>\n",
       "        <td>2019</td>\n",
       "        <td>95</td>\n",
       "        <td>7.97</td>\n",
       "    </tr>\n",
       "    <tr>\n",
       "        <td>1985</td>\n",
       "        <td>19</td>\n",
       "        <td>7.84</td>\n",
       "    </tr>\n",
       "    <tr>\n",
       "        <td>1993</td>\n",
       "        <td>94</td>\n",
       "        <td>7.72</td>\n",
       "    </tr>\n",
       "    <tr>\n",
       "        <td>2013</td>\n",
       "        <td>1631</td>\n",
       "        <td>7.61</td>\n",
       "    </tr>\n",
       "</table>"
      ],
      "text/plain": [
       "[(1984, 12, 9.5),\n",
       " (1992, 56, 8.68),\n",
       " (1990, 30, 8.54),\n",
       " (1991, 39, 8.32),\n",
       " (2020, 13, 8.26),\n",
       " (1994, 131, 8.04),\n",
       " (2019, 95, 7.97),\n",
       " (1985, 19, 7.84),\n",
       " (1993, 94, 7.72),\n",
       " (2013, 1631, 7.61)]"
      ]
     },
     "execution_count": 74,
     "metadata": {},
     "output_type": "execute_result"
    }
   ],
   "source": [
    "%%sql\n",
    "\n",
    "SELECT g.year, COUNT(g.game) AS num_games, ROUND(AVG(r.critic_score),2) AS avg_critic_score\n",
    "FROM gamesalesproject1 as g\n",
    "INNER JOIN gamereviewsdata as r\n",
    "ON g.game = r.game\n",
    "GROUP BY g.year\n",
    "HAVING COUNT(g.game) > 4\n",
    "ORDER BY avg_critic_score DESC\n",
    "LIMIT 10;"
   ]
  },
  {
   "cell_type": "code",
   "execution_count": 75,
   "id": "b35c4056",
   "metadata": {},
   "outputs": [],
   "source": [
    "# Time to compare with user scores. Select year, an average of user_score, and a count of games released in a given year, aliased and rounded\n",
    "# Include only years with more than four reviewed games; group data by year\n",
    "# Order data by avg_user_score, and limit to ten results"
   ]
  },
  {
   "cell_type": "code",
   "execution_count": 76,
   "id": "fcccd988",
   "metadata": {},
   "outputs": [
    {
     "name": "stdout",
     "output_type": "stream",
     "text": [
      " * sqlite:///gamesalesdata5.db\n",
      "Done.\n"
     ]
    },
    {
     "data": {
      "text/html": [
       "<table>\n",
       "    <tr>\n",
       "        <th>year</th>\n",
       "        <th>num_games</th>\n",
       "        <th>avg_user_score</th>\n",
       "    </tr>\n",
       "    <tr>\n",
       "        <td>1997</td>\n",
       "        <td>333</td>\n",
       "        <td>9.38</td>\n",
       "    </tr>\n",
       "    <tr>\n",
       "        <td>1990</td>\n",
       "        <td>30</td>\n",
       "        <td>9.3</td>\n",
       "    </tr>\n",
       "    <tr>\n",
       "        <td>1999</td>\n",
       "        <td>478</td>\n",
       "        <td>9.1</td>\n",
       "    </tr>\n",
       "    <tr>\n",
       "        <td>2003</td>\n",
       "        <td>1695</td>\n",
       "        <td>8.88</td>\n",
       "    </tr>\n",
       "    <tr>\n",
       "        <td>1998</td>\n",
       "        <td>423</td>\n",
       "        <td>8.86</td>\n",
       "    </tr>\n",
       "    <tr>\n",
       "        <td>1994</td>\n",
       "        <td>131</td>\n",
       "        <td>8.8</td>\n",
       "    </tr>\n",
       "    <tr>\n",
       "        <td>1987</td>\n",
       "        <td>18</td>\n",
       "        <td>8.8</td>\n",
       "    </tr>\n",
       "    <tr>\n",
       "        <td>2007</td>\n",
       "        <td>2779</td>\n",
       "        <td>8.64</td>\n",
       "    </tr>\n",
       "    <tr>\n",
       "        <td>2000</td>\n",
       "        <td>545</td>\n",
       "        <td>8.52</td>\n",
       "    </tr>\n",
       "    <tr>\n",
       "        <td>1996</td>\n",
       "        <td>351</td>\n",
       "        <td>8.4</td>\n",
       "    </tr>\n",
       "</table>"
      ],
      "text/plain": [
       "[(1997, 333, 9.38),\n",
       " (1990, 30, 9.3),\n",
       " (1999, 478, 9.1),\n",
       " (2003, 1695, 8.88),\n",
       " (1998, 423, 8.86),\n",
       " (1994, 131, 8.8),\n",
       " (1987, 18, 8.8),\n",
       " (2007, 2779, 8.64),\n",
       " (2000, 545, 8.52),\n",
       " (1996, 351, 8.4)]"
      ]
     },
     "execution_count": 76,
     "metadata": {},
     "output_type": "execute_result"
    }
   ],
   "source": [
    "%%sql\n",
    "\n",
    "SELECT g.year, COUNT(g.game) AS num_games, ROUND(AVG(r.user_score),2) as avg_user_score\n",
    "FROM gamesalesproject1 as g \n",
    "INNER JOIN gamereviewsdata as r\n",
    "ON g.game = r.game\n",
    "GROUP BY g.year\n",
    "HAVING COUNT(g.year) > 4\n",
    "ORDER BY avg_user_score DESC\n",
    "LIMIT 10;\n"
   ]
  },
  {
   "cell_type": "code",
   "execution_count": 77,
   "id": "89624e15",
   "metadata": {},
   "outputs": [],
   "source": [
    "# Select the year results that appear on both critics and users \n",
    "# from the above queries"
   ]
  },
  {
   "cell_type": "code",
   "execution_count": 78,
   "id": "3e016c9c",
   "metadata": {},
   "outputs": [
    {
     "name": "stdout",
     "output_type": "stream",
     "text": [
      " * sqlite:///gamesalesdata5.db\n",
      "Done.\n"
     ]
    },
    {
     "data": {
      "text/html": [
       "<table>\n",
       "    <tr>\n",
       "        <th>year</th>\n",
       "    </tr>\n",
       "    <tr>\n",
       "        <td>1990</td>\n",
       "    </tr>\n",
       "    <tr>\n",
       "        <td>1994</td>\n",
       "    </tr>\n",
       "</table>"
      ],
      "text/plain": [
       "[(1990,), (1994,)]"
      ]
     },
     "execution_count": 78,
     "metadata": {},
     "output_type": "execute_result"
    }
   ],
   "source": [
    "%%sql\n",
    "\n",
    "WITH critics as (SELECT g.year, COUNT(g.game) AS num_games, ROUND(AVG(r.critic_score),2) AS avg_critic_score\n",
    "FROM gamesalesproject1 as g\n",
    "INNER JOIN gamereviewsdata as r\n",
    "ON g.game = r.game\n",
    "GROUP BY g.year\n",
    "HAVING COUNT(g.game) > 4\n",
    "ORDER BY avg_critic_score DESC\n",
    "LIMIT 10),\n",
    "\n",
    "users as (SELECT g.year, COUNT(g.game) AS num_games, ROUND(AVG(r.user_score),2) as avg_user_score\n",
    "FROM gamesalesproject1 as g \n",
    "INNER JOIN gamereviewsdata as r\n",
    "ON g.game = r.game\n",
    "GROUP BY g.year\n",
    "HAVING COUNT(g.year) > 4\n",
    "ORDER BY avg_user_score DESC\n",
    "LIMIT 10)\n",
    "\n",
    "SELECT year\n",
    "FROM critics\n",
    "INTERSECT\n",
    "SELECT year \n",
    "FROM users;"
   ]
  },
  {
   "cell_type": "code",
   "execution_count": 79,
   "id": "aa48d1c5",
   "metadata": {},
   "outputs": [],
   "source": [
    "# Early 1990's appears to a golden age for video games. Select year and sum of games_sold, aliased as total_games_sold; order results by total_games_sold descending\n",
    "# Filter game_sales based on whether each year is in the list returned in the previous task"
   ]
  },
  {
   "cell_type": "code",
   "execution_count": 80,
   "id": "aca42fa5",
   "metadata": {},
   "outputs": [
    {
     "name": "stdout",
     "output_type": "stream",
     "text": [
      " * sqlite:///gamesalesdata5.db\n",
      "Done.\n"
     ]
    },
    {
     "data": {
      "text/html": [
       "<table>\n",
       "    <tr>\n",
       "        <th>year</th>\n",
       "        <th>total_games_sold</th>\n",
       "    </tr>\n",
       "    <tr>\n",
       "        <td>1994</td>\n",
       "        <td>62.969999999999985</td>\n",
       "    </tr>\n",
       "    <tr>\n",
       "        <td>1990</td>\n",
       "        <td>52.4</td>\n",
       "    </tr>\n",
       "</table>"
      ],
      "text/plain": [
       "[(1994, 62.969999999999985), (1990, 52.4)]"
      ]
     },
     "execution_count": 80,
     "metadata": {},
     "output_type": "execute_result"
    }
   ],
   "source": [
    "%%sql \n",
    "\n",
    "WITH critics as (SELECT g.year, COUNT(g.game) AS num_games, ROUND(AVG(r.critic_score),2) AS avg_critic_score\n",
    "FROM gamesalesproject1 as g\n",
    "INNER JOIN gamereviewsdata as r\n",
    "ON g.game = r.game\n",
    "GROUP BY g.year\n",
    "HAVING COUNT(g.game) > 4\n",
    "ORDER BY avg_critic_score DESC\n",
    "LIMIT 10),\n",
    "\n",
    "users as (SELECT g.year, COUNT(g.game) AS num_games, ROUND(AVG(r.user_score),2) as avg_user_score\n",
    "FROM gamesalesproject1 as g \n",
    "INNER JOIN gamereviewsdata as r\n",
    "ON g.game = r.game\n",
    "GROUP BY g.year\n",
    "HAVING COUNT(g.year) > 4\n",
    "ORDER BY avg_user_score DESC\n",
    "LIMIT 10)\n",
    "\n",
    "SELECT g.year, SUM(g.games_sold) AS total_games_sold\n",
    "FROM gamesalesproject1 as g \n",
    "WHERE g.year in (SELECT year FROM users\n",
    "   INTERSECT\n",
    "SELECT year FROM critics)\n",
    "GROUP BY g.year\n",
    "ORDER BY total_games_sold DESC;\n",
    "\n"
   ]
  },
  {
   "cell_type": "code",
   "execution_count": null,
   "id": "b3cd8ae7",
   "metadata": {},
   "outputs": [],
   "source": []
  }
 ],
 "metadata": {
  "kernelspec": {
   "display_name": "Python 3 (ipykernel)",
   "language": "python",
   "name": "python3"
  },
  "language_info": {
   "codemirror_mode": {
    "name": "ipython",
    "version": 3
   },
   "file_extension": ".py",
   "mimetype": "text/x-python",
   "name": "python",
   "nbconvert_exporter": "python",
   "pygments_lexer": "ipython3",
   "version": "3.9.7"
  }
 },
 "nbformat": 4,
 "nbformat_minor": 5
}
